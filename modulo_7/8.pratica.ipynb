{
 "cells": [
  {
   "cell_type": "markdown",
   "id": "e83dba1b",
   "metadata": {},
   "source": [
    "## Exercicios praticos"
   ]
  },
  {
   "cell_type": "code",
   "execution_count": 8,
   "id": "c428e7dc",
   "metadata": {},
   "outputs": [
    {
     "name": "stdout",
     "output_type": "stream",
     "text": [
      "13\n"
     ]
    }
   ],
   "source": [
    "# 1 Faça um programa que tenha uma função chamada amplitude. A função deve receber uma lista e imprimir a amplitude.\n",
    "# Crie também um codigo para testar sua função\n",
    "\n",
    "def amplitude(values: list[int | float]):\n",
    "    amplitude = max(values) - min(values)\n",
    "    return amplitude\n",
    "\n",
    "\n",
    "numbers = [3, 7, 10, 15, 2]\n",
    "print(amplitude(numbers))"
   ]
  },
  {
   "cell_type": "code",
   "execution_count": null,
   "id": "a79939af",
   "metadata": {},
   "outputs": [
    {
     "name": "stdout",
     "output_type": "stream",
     "text": [
      "p\n",
      "y\n",
      "t\n",
      "h\n",
      "o\n",
      "n\n"
     ]
    }
   ],
   "source": [
    "# 2. Faça uma função que recebe uma string e imprima esta string na forma vertical\n",
    "\n",
    "def display_characters_vertically(input_string: str):\n",
    "    for char in input_string:\n",
    "        print(char)\n",
    "    \n",
    "try:\n",
    "    entrada = input()\n",
    "    display_characters_vertically(entrada)\n",
    "except TypeError:\n",
    "    print('invalid value')"
   ]
  },
  {
   "cell_type": "code",
   "execution_count": 22,
   "id": "3d1f1e81",
   "metadata": {},
   "outputs": [
    {
     "name": "stdout",
     "output_type": "stream",
     "text": [
      "o Valor será de R$ 80,00\n"
     ]
    }
   ],
   "source": [
    "''' 3. Crie um programa que leia o peso de uma carga em números inteiros. Se o peso for até 10 kg, informe que o valor será de R$ 50,00.\n",
    "Entre 11 e 20 kg, informe que o valor será de R$ 80. se for maior que 20 informe que o transporte não é aceito'''\n",
    "\n",
    "def compute_shipping_cost(package_weight_in_kg:int):\n",
    "    if package_weight_in_kg <= 10:\n",
    "        return 'o Valor será de R$ 50,00'\n",
    "    elif package_weight_in_kg <= 20:\n",
    "        return 'o Valor será de R$ 80,00'\n",
    "    else:\n",
    "        return 'Transporte não é aceito'\n",
    "    \n",
    "\n",
    "try:\n",
    "    input_weight = int(input())\n",
    "    print(compute_shipping_cost(input_weight))\n",
    "except TypeError:\n",
    "    print('invalid value')\n"
   ]
  },
  {
   "cell_type": "code",
   "execution_count": null,
   "id": "45858777",
   "metadata": {},
   "outputs": [],
   "source": []
  }
 ],
 "metadata": {
  "kernelspec": {
   "display_name": ".venv (3.13.7)",
   "language": "python",
   "name": "python3"
  },
  "language_info": {
   "codemirror_mode": {
    "name": "ipython",
    "version": 3
   },
   "file_extension": ".py",
   "mimetype": "text/x-python",
   "name": "python",
   "nbconvert_exporter": "python",
   "pygments_lexer": "ipython3",
   "version": "3.13.7"
  }
 },
 "nbformat": 4,
 "nbformat_minor": 5
}
